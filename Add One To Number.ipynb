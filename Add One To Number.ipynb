{
 "cells": [
  {
   "cell_type": "code",
   "execution_count": 102,
   "metadata": {},
   "outputs": [
    {
     "ename": "SyntaxError",
     "evalue": "invalid syntax (<ipython-input-102-ccd5b224f2d6>, line 1)",
     "output_type": "error",
     "traceback": [
      "\u001b[1;36m  File \u001b[1;32m\"<ipython-input-102-ccd5b224f2d6>\"\u001b[1;36m, line \u001b[1;32m1\u001b[0m\n\u001b[1;33m    vector<int> Solution::plusOne(vector<int> &A) {\u001b[0m\n\u001b[1;37m                         ^\u001b[0m\n\u001b[1;31mSyntaxError\u001b[0m\u001b[1;31m:\u001b[0m invalid syntax\n"
     ]
    }
   ],
   "source": [
    "vector<int> Solution::plusOne(vector<int> &A) {\n",
    "    // Do not write main() function.\n",
    "    // Do not read input, instead use the arguments to the function.\n",
    "    // Do not print the output, instead return values as specified\n",
    "    // Still have a doubt. Checkout www.interviewbit.com/pages/sample_codes/ for more details\n",
    "    int n=A.size(),carry=0;\n",
    "    vector<int>res;\n",
    "    res.push_back((1+A[n-1])%10);\n",
    "    carry=(1+A[n-1])/10;\n",
    "    for(int i=n-2;i>=0;i--){\n",
    "        res.push_back((carry+A[i])%10);\n",
    "        carry=(carry+A[i])/10;\n",
    "    }\n",
    "    if(carry)\n",
    "     res.push_back(carry);\n",
    "    int x=res.size();\n",
    "    for(int i=0;i<x/2;i++)\n",
    "     swap(res[i],res[x-i-1]);\n",
    "    while(res[0]==0){\n",
    "       res.erase(res.begin());\n",
    "    }\n",
    "    return res;\n",
    "}"
   ]
  },
  {
   "cell_type": "code",
   "execution_count": null,
   "metadata": {},
   "outputs": [],
   "source": []
  }
 ],
 "metadata": {
  "kernelspec": {
   "display_name": "Python 3",
   "language": "python",
   "name": "python3"
  },
  "language_info": {
   "codemirror_mode": {
    "name": "ipython",
    "version": 3
   },
   "file_extension": ".py",
   "mimetype": "text/x-python",
   "name": "python",
   "nbconvert_exporter": "python",
   "pygments_lexer": "ipython3",
   "version": "3.8.3"
  }
 },
 "nbformat": 4,
 "nbformat_minor": 4
}
