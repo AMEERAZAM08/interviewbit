{
 "cells": [
  {
   "cell_type": "code",
   "execution_count": 89,
   "metadata": {},
   "outputs": [],
   "source": [
    "A = [2, 1, 6, 4]"
   ]
  },
  {
   "cell_type": "code",
   "execution_count": 90,
   "metadata": {},
   "outputs": [],
   "source": [
    "\n",
    "def sum_even(A,r_ele):\n",
    "   \n",
    "    return sum([A[i] for i in range(len(A)) if i%2==0 and r_ele!=A[i]])\n",
    "\n",
    "def sum_odd(A,r_ele):\n",
    "\n",
    "    return sum([A[i] for i in range(len(A)) if i%2!=0 and r_ele!=A[i]])\n",
    "\n",
    "def remove(A,k):\n",
    "    print(A[k],sum_even(A,A[k]),sum_odd(A,A[k]))\n",
    "       \n",
    "    "
   ]
  },
  {
   "cell_type": "code",
   "execution_count": 97,
   "metadata": {},
   "outputs": [],
   "source": [
    "def balanced(numbers):\n",
    "    for pivot in range(len(numbers)):\n",
    "        left_total = sum(numbers[:pivot])\n",
    "        right_total = sum(numbers[pivot:])\n",
    "        if left_total == right_total:\n",
    "            return pivot\n",
    "    return None"
   ]
  },
  {
   "cell_type": "code",
   "execution_count": 98,
   "metadata": {},
   "outputs": [],
   "source": [
    "numbers = [2, 1, 6, 4]\n",
    "balanced(numbers)"
   ]
  },
  {
   "cell_type": "code",
   "execution_count": null,
   "metadata": {},
   "outputs": [],
   "source": []
  }
 ],
 "metadata": {
  "kernelspec": {
   "display_name": "Python 3",
   "language": "python",
   "name": "python3"
  },
  "language_info": {
   "codemirror_mode": {
    "name": "ipython",
    "version": 3
   },
   "file_extension": ".py",
   "mimetype": "text/x-python",
   "name": "python",
   "nbconvert_exporter": "python",
   "pygments_lexer": "ipython3",
   "version": "3.8.3"
  }
 },
 "nbformat": 4,
 "nbformat_minor": 4
}
