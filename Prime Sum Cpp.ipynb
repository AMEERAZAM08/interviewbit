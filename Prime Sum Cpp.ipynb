{
 "cells": [
  {
   "cell_type": "code",
   "execution_count": 1,
   "metadata": {},
   "outputs": [],
   "source": [
    "num=4"
   ]
  },
  {
   "cell_type": "code",
   "execution_count": 46,
   "metadata": {},
   "outputs": [
    {
     "data": {
      "text/plain": [
       "True"
      ]
     },
     "execution_count": 46,
     "metadata": {},
     "output_type": "execute_result"
    }
   ],
   "source": [
    "from sympy import *\n",
    "\n",
    "isprime(num+1) \n"
   ]
  },
  {
   "cell_type": "code",
   "execution_count": null,
   "metadata": {},
   "outputs": [],
   "source": [
    "vector<int> Solution::primesum(int n) {\n",
    "    vector<bool> isprime(n+1);\n",
    "    //memset(isprime,1,sizeof(isprime));\n",
    "    for(int i=0;i<=n;i++)\n",
    "     isprime[i]=1;\n",
    "    isprime[0]=0;\n",
    "    isprime[1]=0;\n",
    "    for(int i=2;i*i<=n;i++){\n",
    "        if(isprime[i]){\n",
    "            for(int j=i*2;j<=n;j+=i)\n",
    "             isprime[j]=0;\n",
    "        }\n",
    "    }\n",
    "    vector<int>ans(2);\n",
    "    for(int i=2;i<=n/2;i++){\n",
    "        if(isprime[i]&&isprime[n-i]){\n",
    "            ans[0]=i;\n",
    "            ans[1]=n-i;\n",
    "            return ans;\n",
    "        }\n",
    "    }\n",
    "}"
   ]
  }
 ],
 "metadata": {
  "kernelspec": {
   "display_name": "Python 3",
   "language": "python",
   "name": "python3"
  },
  "language_info": {
   "codemirror_mode": {
    "name": "ipython",
    "version": 3
   },
   "file_extension": ".py",
   "mimetype": "text/x-python",
   "name": "python",
   "nbconvert_exporter": "python",
   "pygments_lexer": "ipython3",
   "version": "3.8.3"
  }
 },
 "nbformat": 4,
 "nbformat_minor": 4
}
